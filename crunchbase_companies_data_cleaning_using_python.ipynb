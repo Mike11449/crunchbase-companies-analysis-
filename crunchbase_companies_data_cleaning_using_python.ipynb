{
 "cells": [
  {
   "cell_type": "markdown",
   "id": "8a03922a",
   "metadata": {},
   "source": [
    "### Research Questions"
   ]
  },
  {
   "cell_type": "markdown",
   "id": "965d3dc6",
   "metadata": {},
   "source": [
    "- What are the funding trends by sector and across different countries?\n",
    "\n",
    "- Which are the top 5 startups with the highest funding amounts in the top 10 funded sectors?\n",
    "\n",
    "- Which sectors have the highest Average Funding Amounts (Top 6)?\n",
    "\n",
    "- Is there any evidence of a funding bubble or funding winter in certain years?\n",
    "\n",
    "- The funding size and share of funding of companies per their current status?\n",
    "\n",
    "- Which companies IPOed and how much did they raise?\n",
    "\n",
    "- What is the distribution of funding raised by companies across the world?\n",
    "\n",
    "- Which companies raised significant funding but are currently shut down?"
   ]
  },
  {
   "cell_type": "markdown",
   "id": "6d8f78a9",
   "metadata": {},
   "source": [
    "**Import Libraries**"
   ]
  },
  {
   "cell_type": "code",
   "execution_count": 1,
   "id": "6295f59e",
   "metadata": {},
   "outputs": [],
   "source": [
    "import pandas as pd"
   ]
  },
  {
   "cell_type": "markdown",
   "id": "3cbe9036",
   "metadata": {},
   "source": [
    "**Load the dataset**"
   ]
  },
  {
   "cell_type": "code",
   "execution_count": 2,
   "id": "4c226568",
   "metadata": {},
   "outputs": [],
   "source": [
    "df = pd.read_csv('companies.csv')"
   ]
  },
  {
   "cell_type": "code",
   "execution_count": 3,
   "id": "85b986ad",
   "metadata": {
    "collapsed": true
   },
   "outputs": [
    {
     "data": {
      "text/html": [
       "<div>\n",
       "<style scoped>\n",
       "    .dataframe tbody tr th:only-of-type {\n",
       "        vertical-align: middle;\n",
       "    }\n",
       "\n",
       "    .dataframe tbody tr th {\n",
       "        vertical-align: top;\n",
       "    }\n",
       "\n",
       "    .dataframe thead th {\n",
       "        text-align: right;\n",
       "    }\n",
       "</style>\n",
       "<table border=\"1\" class=\"dataframe\">\n",
       "  <thead>\n",
       "    <tr style=\"text-align: right;\">\n",
       "      <th></th>\n",
       "      <th>id</th>\n",
       "      <th>Unnamed: 0.1</th>\n",
       "      <th>entity_type</th>\n",
       "      <th>entity_id</th>\n",
       "      <th>parent_id</th>\n",
       "      <th>name</th>\n",
       "      <th>normalized_name</th>\n",
       "      <th>permalink</th>\n",
       "      <th>category_code</th>\n",
       "      <th>status</th>\n",
       "      <th>...</th>\n",
       "      <th>first_milestone_at</th>\n",
       "      <th>last_milestone_at</th>\n",
       "      <th>milestones</th>\n",
       "      <th>relationships</th>\n",
       "      <th>created_by</th>\n",
       "      <th>created_at</th>\n",
       "      <th>updated_at</th>\n",
       "      <th>lat</th>\n",
       "      <th>lng</th>\n",
       "      <th>ROI</th>\n",
       "    </tr>\n",
       "  </thead>\n",
       "  <tbody>\n",
       "    <tr>\n",
       "      <th>0</th>\n",
       "      <td>c:1</td>\n",
       "      <td>0</td>\n",
       "      <td>Company</td>\n",
       "      <td>1</td>\n",
       "      <td>NaN</td>\n",
       "      <td>Wetpaint</td>\n",
       "      <td>wetpaint</td>\n",
       "      <td>/company/wetpaint</td>\n",
       "      <td>web</td>\n",
       "      <td>operating</td>\n",
       "      <td>...</td>\n",
       "      <td>2010-09-05</td>\n",
       "      <td>2013-09-18</td>\n",
       "      <td>5.0</td>\n",
       "      <td>17.0</td>\n",
       "      <td>initial-importer</td>\n",
       "      <td>2007-05-25 06:51:27</td>\n",
       "      <td>2013-04-13 03:29:00</td>\n",
       "      <td>47.606209</td>\n",
       "      <td>-122.332071</td>\n",
       "      <td>15.5</td>\n",
       "    </tr>\n",
       "    <tr>\n",
       "      <th>1</th>\n",
       "      <td>c:10</td>\n",
       "      <td>1</td>\n",
       "      <td>Company</td>\n",
       "      <td>10</td>\n",
       "      <td>NaN</td>\n",
       "      <td>Flektor</td>\n",
       "      <td>flektor</td>\n",
       "      <td>/company/flektor</td>\n",
       "      <td>games_video</td>\n",
       "      <td>acquired</td>\n",
       "      <td>...</td>\n",
       "      <td>NaN</td>\n",
       "      <td>NaN</td>\n",
       "      <td>NaN</td>\n",
       "      <td>6.0</td>\n",
       "      <td>initial-importer</td>\n",
       "      <td>2007-05-31 21:11:51</td>\n",
       "      <td>2008-05-23 23:23:14</td>\n",
       "      <td>34.021122</td>\n",
       "      <td>-118.396467</td>\n",
       "      <td>NaN</td>\n",
       "    </tr>\n",
       "    <tr>\n",
       "      <th>2</th>\n",
       "      <td>c:100</td>\n",
       "      <td>2</td>\n",
       "      <td>Company</td>\n",
       "      <td>100</td>\n",
       "      <td>NaN</td>\n",
       "      <td>There</td>\n",
       "      <td>there</td>\n",
       "      <td>/company/there</td>\n",
       "      <td>games_video</td>\n",
       "      <td>acquired</td>\n",
       "      <td>...</td>\n",
       "      <td>2003-02-01</td>\n",
       "      <td>2011-09-23</td>\n",
       "      <td>4.0</td>\n",
       "      <td>12.0</td>\n",
       "      <td>initial-importer</td>\n",
       "      <td>2007-08-06 23:52:45</td>\n",
       "      <td>2013-11-04 02:09:48</td>\n",
       "      <td>37.562992</td>\n",
       "      <td>-122.325525</td>\n",
       "      <td>NaN</td>\n",
       "    </tr>\n",
       "    <tr>\n",
       "      <th>3</th>\n",
       "      <td>c:10000</td>\n",
       "      <td>3</td>\n",
       "      <td>Company</td>\n",
       "      <td>10000</td>\n",
       "      <td>NaN</td>\n",
       "      <td>MYWEBBO</td>\n",
       "      <td>mywebbo</td>\n",
       "      <td>/company/mywebbo</td>\n",
       "      <td>network_hosting</td>\n",
       "      <td>operating</td>\n",
       "      <td>...</td>\n",
       "      <td>NaN</td>\n",
       "      <td>NaN</td>\n",
       "      <td>NaN</td>\n",
       "      <td>NaN</td>\n",
       "      <td>NaN</td>\n",
       "      <td>2008-08-24 16:51:57</td>\n",
       "      <td>2008-09-06 14:19:18</td>\n",
       "      <td>NaN</td>\n",
       "      <td>NaN</td>\n",
       "      <td>NaN</td>\n",
       "    </tr>\n",
       "    <tr>\n",
       "      <th>4</th>\n",
       "      <td>c:10001</td>\n",
       "      <td>4</td>\n",
       "      <td>Company</td>\n",
       "      <td>10001</td>\n",
       "      <td>NaN</td>\n",
       "      <td>THE Movie Streamer</td>\n",
       "      <td>the movie streamer</td>\n",
       "      <td>/company/the-movie-streamer</td>\n",
       "      <td>games_video</td>\n",
       "      <td>operating</td>\n",
       "      <td>...</td>\n",
       "      <td>NaN</td>\n",
       "      <td>NaN</td>\n",
       "      <td>NaN</td>\n",
       "      <td>NaN</td>\n",
       "      <td>NaN</td>\n",
       "      <td>2008-08-24 17:10:34</td>\n",
       "      <td>2008-09-06 14:19:18</td>\n",
       "      <td>NaN</td>\n",
       "      <td>NaN</td>\n",
       "      <td>NaN</td>\n",
       "    </tr>\n",
       "  </tbody>\n",
       "</table>\n",
       "<p>5 rows × 44 columns</p>\n",
       "</div>"
      ],
      "text/plain": [
       "        id  Unnamed: 0.1 entity_type  entity_id  parent_id  \\\n",
       "0      c:1             0     Company          1        NaN   \n",
       "1     c:10             1     Company         10        NaN   \n",
       "2    c:100             2     Company        100        NaN   \n",
       "3  c:10000             3     Company      10000        NaN   \n",
       "4  c:10001             4     Company      10001        NaN   \n",
       "\n",
       "                 name     normalized_name                    permalink  \\\n",
       "0            Wetpaint            wetpaint            /company/wetpaint   \n",
       "1             Flektor             flektor             /company/flektor   \n",
       "2               There               there               /company/there   \n",
       "3             MYWEBBO             mywebbo             /company/mywebbo   \n",
       "4  THE Movie Streamer  the movie streamer  /company/the-movie-streamer   \n",
       "\n",
       "     category_code     status  ... first_milestone_at last_milestone_at  \\\n",
       "0              web  operating  ...         2010-09-05        2013-09-18   \n",
       "1      games_video   acquired  ...                NaN               NaN   \n",
       "2      games_video   acquired  ...         2003-02-01        2011-09-23   \n",
       "3  network_hosting  operating  ...                NaN               NaN   \n",
       "4      games_video  operating  ...                NaN               NaN   \n",
       "\n",
       "  milestones relationships        created_by           created_at  \\\n",
       "0        5.0          17.0  initial-importer  2007-05-25 06:51:27   \n",
       "1        NaN           6.0  initial-importer  2007-05-31 21:11:51   \n",
       "2        4.0          12.0  initial-importer  2007-08-06 23:52:45   \n",
       "3        NaN           NaN               NaN  2008-08-24 16:51:57   \n",
       "4        NaN           NaN               NaN  2008-08-24 17:10:34   \n",
       "\n",
       "            updated_at        lat         lng   ROI  \n",
       "0  2013-04-13 03:29:00  47.606209 -122.332071  15.5  \n",
       "1  2008-05-23 23:23:14  34.021122 -118.396467   NaN  \n",
       "2  2013-11-04 02:09:48  37.562992 -122.325525   NaN  \n",
       "3  2008-09-06 14:19:18        NaN         NaN   NaN  \n",
       "4  2008-09-06 14:19:18        NaN         NaN   NaN  \n",
       "\n",
       "[5 rows x 44 columns]"
      ]
     },
     "execution_count": 3,
     "metadata": {},
     "output_type": "execute_result"
    }
   ],
   "source": [
    "df.head()"
   ]
  },
  {
   "cell_type": "markdown",
   "id": "f84fdd29",
   "metadata": {},
   "source": [
    "**Data preprocessing**"
   ]
  },
  {
   "cell_type": "code",
   "execution_count": 4,
   "id": "768b1e4a",
   "metadata": {
    "scrolled": true
   },
   "outputs": [
    {
     "data": {
      "text/plain": [
       "(196553, 44)"
      ]
     },
     "execution_count": 4,
     "metadata": {},
     "output_type": "execute_result"
    }
   ],
   "source": [
    "# Checking the columns of the dataframe\n",
    "\n",
    "df.shape"
   ]
  },
  {
   "cell_type": "code",
   "execution_count": 6,
   "id": "b273ecab",
   "metadata": {
    "scrolled": true
   },
   "outputs": [
    {
     "data": {
      "text/plain": [
       "Index(['id', 'Unnamed: 0.1', 'entity_type', 'entity_id', 'parent_id', 'name',\n",
       "       'normalized_name', 'permalink', 'category_code', 'status', 'founded_at',\n",
       "       'closed_at', 'domain', 'homepage_url', 'twitter_username', 'logo_url',\n",
       "       'logo_width', 'logo_height', 'short_description', 'description',\n",
       "       'overview', 'tag_list', 'country_code', 'state_code', 'city', 'region',\n",
       "       'first_investment_at', 'last_investment_at', 'investment_rounds',\n",
       "       'invested_companies', 'first_funding_at', 'last_funding_at',\n",
       "       'funding_rounds', 'funding_total_usd', 'first_milestone_at',\n",
       "       'last_milestone_at', 'milestones', 'relationships', 'created_by',\n",
       "       'created_at', 'updated_at', 'lat', 'lng', 'ROI'],\n",
       "      dtype='object')"
      ]
     },
     "execution_count": 6,
     "metadata": {},
     "output_type": "execute_result"
    }
   ],
   "source": [
    "# Check the columns \n",
    "\n",
    "df.columns"
   ]
  },
  {
   "cell_type": "code",
   "execution_count": 7,
   "id": "82934500",
   "metadata": {},
   "outputs": [],
   "source": [
    "# List of required columns to keep from the DataFrame\n",
    "required_columns = ['name', 'permalink', 'category_code', 'funding_total_usd', 'status', 'country_code', 'state_code', 'region', 'city',\n",
    "                    'funding_rounds', 'founded_at']\n",
    "\n",
    "# Filter the DataFrame to include only the required columns\n",
    "df = df[required_columns]"
   ]
  },
  {
   "cell_type": "code",
   "execution_count": 8,
   "id": "21a470a5",
   "metadata": {},
   "outputs": [
    {
     "data": {
      "text/html": [
       "<div>\n",
       "<style scoped>\n",
       "    .dataframe tbody tr th:only-of-type {\n",
       "        vertical-align: middle;\n",
       "    }\n",
       "\n",
       "    .dataframe tbody tr th {\n",
       "        vertical-align: top;\n",
       "    }\n",
       "\n",
       "    .dataframe thead th {\n",
       "        text-align: right;\n",
       "    }\n",
       "</style>\n",
       "<table border=\"1\" class=\"dataframe\">\n",
       "  <thead>\n",
       "    <tr style=\"text-align: right;\">\n",
       "      <th></th>\n",
       "      <th>name</th>\n",
       "      <th>permalink</th>\n",
       "      <th>category_code</th>\n",
       "      <th>funding_total_usd</th>\n",
       "      <th>status</th>\n",
       "      <th>country_code</th>\n",
       "      <th>state_code</th>\n",
       "      <th>region</th>\n",
       "      <th>city</th>\n",
       "      <th>funding_rounds</th>\n",
       "      <th>founded_at</th>\n",
       "    </tr>\n",
       "  </thead>\n",
       "  <tbody>\n",
       "    <tr>\n",
       "      <th>0</th>\n",
       "      <td>Wetpaint</td>\n",
       "      <td>/company/wetpaint</td>\n",
       "      <td>web</td>\n",
       "      <td>39750000.0</td>\n",
       "      <td>operating</td>\n",
       "      <td>USA</td>\n",
       "      <td>WA</td>\n",
       "      <td>Seattle</td>\n",
       "      <td>Seattle</td>\n",
       "      <td>3.0</td>\n",
       "      <td>2005-10-17</td>\n",
       "    </tr>\n",
       "    <tr>\n",
       "      <th>1</th>\n",
       "      <td>Flektor</td>\n",
       "      <td>/company/flektor</td>\n",
       "      <td>games_video</td>\n",
       "      <td>NaN</td>\n",
       "      <td>acquired</td>\n",
       "      <td>USA</td>\n",
       "      <td>CA</td>\n",
       "      <td>Los Angeles</td>\n",
       "      <td>Culver City</td>\n",
       "      <td>NaN</td>\n",
       "      <td>NaN</td>\n",
       "    </tr>\n",
       "    <tr>\n",
       "      <th>2</th>\n",
       "      <td>There</td>\n",
       "      <td>/company/there</td>\n",
       "      <td>games_video</td>\n",
       "      <td>NaN</td>\n",
       "      <td>acquired</td>\n",
       "      <td>USA</td>\n",
       "      <td>CA</td>\n",
       "      <td>SF Bay</td>\n",
       "      <td>San Mateo</td>\n",
       "      <td>NaN</td>\n",
       "      <td>NaN</td>\n",
       "    </tr>\n",
       "    <tr>\n",
       "      <th>3</th>\n",
       "      <td>MYWEBBO</td>\n",
       "      <td>/company/mywebbo</td>\n",
       "      <td>network_hosting</td>\n",
       "      <td>NaN</td>\n",
       "      <td>operating</td>\n",
       "      <td>NaN</td>\n",
       "      <td>NaN</td>\n",
       "      <td>unknown</td>\n",
       "      <td>NaN</td>\n",
       "      <td>NaN</td>\n",
       "      <td>2008-07-26</td>\n",
       "    </tr>\n",
       "    <tr>\n",
       "      <th>4</th>\n",
       "      <td>THE Movie Streamer</td>\n",
       "      <td>/company/the-movie-streamer</td>\n",
       "      <td>games_video</td>\n",
       "      <td>NaN</td>\n",
       "      <td>operating</td>\n",
       "      <td>NaN</td>\n",
       "      <td>NaN</td>\n",
       "      <td>unknown</td>\n",
       "      <td>NaN</td>\n",
       "      <td>NaN</td>\n",
       "      <td>2008-07-26</td>\n",
       "    </tr>\n",
       "  </tbody>\n",
       "</table>\n",
       "</div>"
      ],
      "text/plain": [
       "                 name                    permalink    category_code  \\\n",
       "0            Wetpaint            /company/wetpaint              web   \n",
       "1             Flektor             /company/flektor      games_video   \n",
       "2               There               /company/there      games_video   \n",
       "3             MYWEBBO             /company/mywebbo  network_hosting   \n",
       "4  THE Movie Streamer  /company/the-movie-streamer      games_video   \n",
       "\n",
       "   funding_total_usd     status country_code state_code       region  \\\n",
       "0         39750000.0  operating          USA         WA      Seattle   \n",
       "1                NaN   acquired          USA         CA  Los Angeles   \n",
       "2                NaN   acquired          USA         CA       SF Bay   \n",
       "3                NaN  operating          NaN        NaN      unknown   \n",
       "4                NaN  operating          NaN        NaN      unknown   \n",
       "\n",
       "          city  funding_rounds  founded_at  \n",
       "0      Seattle             3.0  2005-10-17  \n",
       "1  Culver City             NaN         NaN  \n",
       "2    San Mateo             NaN         NaN  \n",
       "3          NaN             NaN  2008-07-26  \n",
       "4          NaN             NaN  2008-07-26  "
      ]
     },
     "execution_count": 8,
     "metadata": {},
     "output_type": "execute_result"
    }
   ],
   "source": [
    "# Display the first few rows of the DataFrame\n",
    "\n",
    "df.head()"
   ]
  },
  {
   "cell_type": "code",
   "execution_count": 12,
   "id": "18d34d6a",
   "metadata": {},
   "outputs": [
    {
     "name": "stdout",
     "output_type": "stream",
     "text": [
      "The number of duplicated values are 38\n"
     ]
    }
   ],
   "source": [
    "# Check and print the number of duplicated rows in the DataFrame and counts how many there are\n",
    "\n",
    "print(f\"The number of duplicated values are {df.duplicated().sum()}\")"
   ]
  },
  {
   "cell_type": "code",
   "execution_count": 13,
   "id": "219b5f8b",
   "metadata": {},
   "outputs": [],
   "source": [
    "# Drop duplicate rows from the DataFrame in place\n",
    "\n",
    "df.drop_duplicates(inplace=True)"
   ]
  },
  {
   "cell_type": "code",
   "execution_count": 15,
   "id": "7896face",
   "metadata": {},
   "outputs": [
    {
     "data": {
      "text/plain": [
       "0"
      ]
     },
     "execution_count": 15,
     "metadata": {},
     "output_type": "execute_result"
    }
   ],
   "source": [
    "# Checking how many duplicated rows are present in the dataframe\n",
    "\n",
    "df.duplicated().sum()"
   ]
  },
  {
   "cell_type": "code",
   "execution_count": 17,
   "id": "2b917803",
   "metadata": {},
   "outputs": [
    {
     "data": {
      "text/plain": [
       "168641"
      ]
     },
     "execution_count": 17,
     "metadata": {},
     "output_type": "execute_result"
    }
   ],
   "source": [
    "df['funding_total_usd'].isnull().sum()"
   ]
  },
  {
   "cell_type": "code",
   "execution_count": 18,
   "id": "b93290f0",
   "metadata": {},
   "outputs": [],
   "source": [
    "df.dropna(subset=['funding_total_usd'], inplace=True)"
   ]
  },
  {
   "cell_type": "code",
   "execution_count": 19,
   "id": "137c5f4a",
   "metadata": {},
   "outputs": [
    {
     "data": {
      "text/plain": [
       "0"
      ]
     },
     "execution_count": 19,
     "metadata": {},
     "output_type": "execute_result"
    }
   ],
   "source": [
    "df['funding_total_usd'].isnull().sum()"
   ]
  },
  {
   "cell_type": "code",
   "execution_count": 20,
   "id": "6ea25918",
   "metadata": {
    "scrolled": true
   },
   "outputs": [
    {
     "data": {
      "text/html": [
       "<div>\n",
       "<style scoped>\n",
       "    .dataframe tbody tr th:only-of-type {\n",
       "        vertical-align: middle;\n",
       "    }\n",
       "\n",
       "    .dataframe tbody tr th {\n",
       "        vertical-align: top;\n",
       "    }\n",
       "\n",
       "    .dataframe thead th {\n",
       "        text-align: right;\n",
       "    }\n",
       "</style>\n",
       "<table border=\"1\" class=\"dataframe\">\n",
       "  <thead>\n",
       "    <tr style=\"text-align: right;\">\n",
       "      <th></th>\n",
       "      <th>name</th>\n",
       "      <th>permalink</th>\n",
       "      <th>category_code</th>\n",
       "      <th>funding_total_usd</th>\n",
       "      <th>status</th>\n",
       "      <th>country_code</th>\n",
       "      <th>state_code</th>\n",
       "      <th>region</th>\n",
       "      <th>city</th>\n",
       "      <th>funding_rounds</th>\n",
       "      <th>founded_at</th>\n",
       "    </tr>\n",
       "  </thead>\n",
       "  <tbody>\n",
       "    <tr>\n",
       "      <th>0</th>\n",
       "      <td>Wetpaint</td>\n",
       "      <td>/company/wetpaint</td>\n",
       "      <td>web</td>\n",
       "      <td>39750000.0</td>\n",
       "      <td>operating</td>\n",
       "      <td>USA</td>\n",
       "      <td>WA</td>\n",
       "      <td>Seattle</td>\n",
       "      <td>Seattle</td>\n",
       "      <td>3.0</td>\n",
       "      <td>2005-10-17</td>\n",
       "    </tr>\n",
       "    <tr>\n",
       "      <th>13</th>\n",
       "      <td>FriendFeed</td>\n",
       "      <td>/company/friendfeed</td>\n",
       "      <td>web</td>\n",
       "      <td>5000000.0</td>\n",
       "      <td>acquired</td>\n",
       "      <td>USA</td>\n",
       "      <td>CA</td>\n",
       "      <td>SF Bay</td>\n",
       "      <td>Mountain View</td>\n",
       "      <td>1.0</td>\n",
       "      <td>2007-10-01</td>\n",
       "    </tr>\n",
       "    <tr>\n",
       "      <th>19</th>\n",
       "      <td>Fitbit</td>\n",
       "      <td>/company/fitbit</td>\n",
       "      <td>health</td>\n",
       "      <td>68069200.0</td>\n",
       "      <td>operating</td>\n",
       "      <td>USA</td>\n",
       "      <td>CA</td>\n",
       "      <td>SF Bay</td>\n",
       "      <td>San Francisco</td>\n",
       "      <td>5.0</td>\n",
       "      <td>2007-10-01</td>\n",
       "    </tr>\n",
       "    <tr>\n",
       "      <th>20</th>\n",
       "      <td>MTPV</td>\n",
       "      <td>/company/mtpv</td>\n",
       "      <td>cleantech</td>\n",
       "      <td>10125293.0</td>\n",
       "      <td>operating</td>\n",
       "      <td>USA</td>\n",
       "      <td>TX</td>\n",
       "      <td>Austin</td>\n",
       "      <td>Austin</td>\n",
       "      <td>3.0</td>\n",
       "      <td>2003-01-01</td>\n",
       "    </tr>\n",
       "    <tr>\n",
       "      <th>24</th>\n",
       "      <td>Demandbase</td>\n",
       "      <td>/company/demandbase</td>\n",
       "      <td>analytics</td>\n",
       "      <td>33000000.0</td>\n",
       "      <td>operating</td>\n",
       "      <td>USA</td>\n",
       "      <td>CA</td>\n",
       "      <td>SF Bay</td>\n",
       "      <td>San Francisco</td>\n",
       "      <td>3.0</td>\n",
       "      <td>2006-01-01</td>\n",
       "    </tr>\n",
       "  </tbody>\n",
       "</table>\n",
       "</div>"
      ],
      "text/plain": [
       "          name            permalink category_code  funding_total_usd  \\\n",
       "0     Wetpaint    /company/wetpaint           web         39750000.0   \n",
       "13  FriendFeed  /company/friendfeed           web          5000000.0   \n",
       "19      Fitbit      /company/fitbit        health         68069200.0   \n",
       "20        MTPV        /company/mtpv     cleantech         10125293.0   \n",
       "24  Demandbase  /company/demandbase     analytics         33000000.0   \n",
       "\n",
       "       status country_code state_code   region           city  funding_rounds  \\\n",
       "0   operating          USA         WA  Seattle        Seattle             3.0   \n",
       "13   acquired          USA         CA   SF Bay  Mountain View             1.0   \n",
       "19  operating          USA         CA   SF Bay  San Francisco             5.0   \n",
       "20  operating          USA         TX   Austin         Austin             3.0   \n",
       "24  operating          USA         CA   SF Bay  San Francisco             3.0   \n",
       "\n",
       "    founded_at  \n",
       "0   2005-10-17  \n",
       "13  2007-10-01  \n",
       "19  2007-10-01  \n",
       "20  2003-01-01  \n",
       "24  2006-01-01  "
      ]
     },
     "execution_count": 20,
     "metadata": {},
     "output_type": "execute_result"
    }
   ],
   "source": [
    "df.head()"
   ]
  },
  {
   "cell_type": "code",
   "execution_count": 21,
   "id": "3c2d04bc",
   "metadata": {},
   "outputs": [
    {
     "data": {
      "text/plain": [
       "(27874, 11)"
      ]
     },
     "execution_count": 21,
     "metadata": {},
     "output_type": "execute_result"
    }
   ],
   "source": [
    "df.shape"
   ]
  },
  {
   "cell_type": "markdown",
   "id": "e64db1db",
   "metadata": {},
   "source": [
    "**Rename category column**"
   ]
  },
  {
   "cell_type": "code",
   "execution_count": 22,
   "id": "a9f9146f",
   "metadata": {},
   "outputs": [],
   "source": [
    "df.rename(columns = {'category_code': 'sector'}, inplace = True) "
   ]
  },
  {
   "cell_type": "code",
   "execution_count": 23,
   "id": "8154b0b9",
   "metadata": {},
   "outputs": [
    {
     "data": {
      "text/html": [
       "<div>\n",
       "<style scoped>\n",
       "    .dataframe tbody tr th:only-of-type {\n",
       "        vertical-align: middle;\n",
       "    }\n",
       "\n",
       "    .dataframe tbody tr th {\n",
       "        vertical-align: top;\n",
       "    }\n",
       "\n",
       "    .dataframe thead th {\n",
       "        text-align: right;\n",
       "    }\n",
       "</style>\n",
       "<table border=\"1\" class=\"dataframe\">\n",
       "  <thead>\n",
       "    <tr style=\"text-align: right;\">\n",
       "      <th></th>\n",
       "      <th>name</th>\n",
       "      <th>permalink</th>\n",
       "      <th>sector</th>\n",
       "      <th>funding_total_usd</th>\n",
       "      <th>status</th>\n",
       "      <th>country_code</th>\n",
       "      <th>state_code</th>\n",
       "      <th>region</th>\n",
       "      <th>city</th>\n",
       "      <th>funding_rounds</th>\n",
       "      <th>founded_at</th>\n",
       "    </tr>\n",
       "  </thead>\n",
       "  <tbody>\n",
       "    <tr>\n",
       "      <th>0</th>\n",
       "      <td>Wetpaint</td>\n",
       "      <td>/company/wetpaint</td>\n",
       "      <td>web</td>\n",
       "      <td>39750000.0</td>\n",
       "      <td>operating</td>\n",
       "      <td>USA</td>\n",
       "      <td>WA</td>\n",
       "      <td>Seattle</td>\n",
       "      <td>Seattle</td>\n",
       "      <td>3.0</td>\n",
       "      <td>2005-10-17</td>\n",
       "    </tr>\n",
       "    <tr>\n",
       "      <th>13</th>\n",
       "      <td>FriendFeed</td>\n",
       "      <td>/company/friendfeed</td>\n",
       "      <td>web</td>\n",
       "      <td>5000000.0</td>\n",
       "      <td>acquired</td>\n",
       "      <td>USA</td>\n",
       "      <td>CA</td>\n",
       "      <td>SF Bay</td>\n",
       "      <td>Mountain View</td>\n",
       "      <td>1.0</td>\n",
       "      <td>2007-10-01</td>\n",
       "    </tr>\n",
       "    <tr>\n",
       "      <th>19</th>\n",
       "      <td>Fitbit</td>\n",
       "      <td>/company/fitbit</td>\n",
       "      <td>health</td>\n",
       "      <td>68069200.0</td>\n",
       "      <td>operating</td>\n",
       "      <td>USA</td>\n",
       "      <td>CA</td>\n",
       "      <td>SF Bay</td>\n",
       "      <td>San Francisco</td>\n",
       "      <td>5.0</td>\n",
       "      <td>2007-10-01</td>\n",
       "    </tr>\n",
       "    <tr>\n",
       "      <th>20</th>\n",
       "      <td>MTPV</td>\n",
       "      <td>/company/mtpv</td>\n",
       "      <td>cleantech</td>\n",
       "      <td>10125293.0</td>\n",
       "      <td>operating</td>\n",
       "      <td>USA</td>\n",
       "      <td>TX</td>\n",
       "      <td>Austin</td>\n",
       "      <td>Austin</td>\n",
       "      <td>3.0</td>\n",
       "      <td>2003-01-01</td>\n",
       "    </tr>\n",
       "    <tr>\n",
       "      <th>24</th>\n",
       "      <td>Demandbase</td>\n",
       "      <td>/company/demandbase</td>\n",
       "      <td>analytics</td>\n",
       "      <td>33000000.0</td>\n",
       "      <td>operating</td>\n",
       "      <td>USA</td>\n",
       "      <td>CA</td>\n",
       "      <td>SF Bay</td>\n",
       "      <td>San Francisco</td>\n",
       "      <td>3.0</td>\n",
       "      <td>2006-01-01</td>\n",
       "    </tr>\n",
       "  </tbody>\n",
       "</table>\n",
       "</div>"
      ],
      "text/plain": [
       "          name            permalink     sector  funding_total_usd     status  \\\n",
       "0     Wetpaint    /company/wetpaint        web         39750000.0  operating   \n",
       "13  FriendFeed  /company/friendfeed        web          5000000.0   acquired   \n",
       "19      Fitbit      /company/fitbit     health         68069200.0  operating   \n",
       "20        MTPV        /company/mtpv  cleantech         10125293.0  operating   \n",
       "24  Demandbase  /company/demandbase  analytics         33000000.0  operating   \n",
       "\n",
       "   country_code state_code   region           city  funding_rounds  founded_at  \n",
       "0           USA         WA  Seattle        Seattle             3.0  2005-10-17  \n",
       "13          USA         CA   SF Bay  Mountain View             1.0  2007-10-01  \n",
       "19          USA         CA   SF Bay  San Francisco             5.0  2007-10-01  \n",
       "20          USA         TX   Austin         Austin             3.0  2003-01-01  \n",
       "24          USA         CA   SF Bay  San Francisco             3.0  2006-01-01  "
      ]
     },
     "execution_count": 23,
     "metadata": {},
     "output_type": "execute_result"
    }
   ],
   "source": [
    "df.head()"
   ]
  },
  {
   "cell_type": "code",
   "execution_count": 25,
   "id": "37ca8306",
   "metadata": {},
   "outputs": [
    {
     "data": {
      "text/html": [
       "<div>\n",
       "<style scoped>\n",
       "    .dataframe tbody tr th:only-of-type {\n",
       "        vertical-align: middle;\n",
       "    }\n",
       "\n",
       "    .dataframe tbody tr th {\n",
       "        vertical-align: top;\n",
       "    }\n",
       "\n",
       "    .dataframe thead th {\n",
       "        text-align: right;\n",
       "    }\n",
       "</style>\n",
       "<table border=\"1\" class=\"dataframe\">\n",
       "  <thead>\n",
       "    <tr style=\"text-align: right;\">\n",
       "      <th></th>\n",
       "      <th>name</th>\n",
       "      <th>permalink</th>\n",
       "      <th>sector</th>\n",
       "      <th>funding_total_usd</th>\n",
       "      <th>status</th>\n",
       "      <th>country_code</th>\n",
       "      <th>state_code</th>\n",
       "      <th>region</th>\n",
       "      <th>city</th>\n",
       "      <th>funding_rounds</th>\n",
       "      <th>founded_at</th>\n",
       "    </tr>\n",
       "  </thead>\n",
       "  <tbody>\n",
       "    <tr>\n",
       "      <th>0</th>\n",
       "      <td>wetpaint</td>\n",
       "      <td>/company/wetpaint</td>\n",
       "      <td>web</td>\n",
       "      <td>39750000.0</td>\n",
       "      <td>operating</td>\n",
       "      <td>USA</td>\n",
       "      <td>WA</td>\n",
       "      <td>Seattle</td>\n",
       "      <td>seattle</td>\n",
       "      <td>3.0</td>\n",
       "      <td>2005-10-17</td>\n",
       "    </tr>\n",
       "    <tr>\n",
       "      <th>13</th>\n",
       "      <td>friendfeed</td>\n",
       "      <td>/company/friendfeed</td>\n",
       "      <td>web</td>\n",
       "      <td>5000000.0</td>\n",
       "      <td>acquired</td>\n",
       "      <td>USA</td>\n",
       "      <td>CA</td>\n",
       "      <td>SF Bay</td>\n",
       "      <td>mountain view</td>\n",
       "      <td>1.0</td>\n",
       "      <td>2007-10-01</td>\n",
       "    </tr>\n",
       "    <tr>\n",
       "      <th>19</th>\n",
       "      <td>fitbit</td>\n",
       "      <td>/company/fitbit</td>\n",
       "      <td>health</td>\n",
       "      <td>68069200.0</td>\n",
       "      <td>operating</td>\n",
       "      <td>USA</td>\n",
       "      <td>CA</td>\n",
       "      <td>SF Bay</td>\n",
       "      <td>san francisco</td>\n",
       "      <td>5.0</td>\n",
       "      <td>2007-10-01</td>\n",
       "    </tr>\n",
       "    <tr>\n",
       "      <th>20</th>\n",
       "      <td>mtpv</td>\n",
       "      <td>/company/mtpv</td>\n",
       "      <td>cleantech</td>\n",
       "      <td>10125293.0</td>\n",
       "      <td>operating</td>\n",
       "      <td>USA</td>\n",
       "      <td>TX</td>\n",
       "      <td>Austin</td>\n",
       "      <td>austin</td>\n",
       "      <td>3.0</td>\n",
       "      <td>2003-01-01</td>\n",
       "    </tr>\n",
       "    <tr>\n",
       "      <th>24</th>\n",
       "      <td>demandbase</td>\n",
       "      <td>/company/demandbase</td>\n",
       "      <td>analytics</td>\n",
       "      <td>33000000.0</td>\n",
       "      <td>operating</td>\n",
       "      <td>USA</td>\n",
       "      <td>CA</td>\n",
       "      <td>SF Bay</td>\n",
       "      <td>san francisco</td>\n",
       "      <td>3.0</td>\n",
       "      <td>2006-01-01</td>\n",
       "    </tr>\n",
       "  </tbody>\n",
       "</table>\n",
       "</div>"
      ],
      "text/plain": [
       "          name            permalink     sector  funding_total_usd     status  \\\n",
       "0     wetpaint    /company/wetpaint        web         39750000.0  operating   \n",
       "13  friendfeed  /company/friendfeed        web          5000000.0   acquired   \n",
       "19      fitbit      /company/fitbit     health         68069200.0  operating   \n",
       "20        mtpv        /company/mtpv  cleantech         10125293.0  operating   \n",
       "24  demandbase  /company/demandbase  analytics         33000000.0  operating   \n",
       "\n",
       "   country_code state_code   region           city  funding_rounds  founded_at  \n",
       "0           USA         WA  Seattle        seattle             3.0  2005-10-17  \n",
       "13          USA         CA   SF Bay  mountain view             1.0  2007-10-01  \n",
       "19          USA         CA   SF Bay  san francisco             5.0  2007-10-01  \n",
       "20          USA         TX   Austin         austin             3.0  2003-01-01  \n",
       "24          USA         CA   SF Bay  san francisco             3.0  2006-01-01  "
      ]
     },
     "execution_count": 25,
     "metadata": {},
     "output_type": "execute_result"
    }
   ],
   "source": [
    "# Convert the 'name' and 'city' columns to lowercase using the apply() function with a lambda\n",
    "df[['name', 'city']] = df[['name', 'city']].apply(lambda x: x.str.lower())\n",
    "\n",
    "# Display the first few rows of the updated DataFrame to verify changes\n",
    "df.head()"
   ]
  },
  {
   "cell_type": "markdown",
   "id": "99a8a2a7",
   "metadata": {},
   "source": [
    "**Store cleanned data into a new csv file**"
   ]
  },
  {
   "cell_type": "code",
   "execution_count": 26,
   "id": "29a5e66c",
   "metadata": {},
   "outputs": [],
   "source": [
    "df.to_csv('cleanned_companies_data.csv', index = False)"
   ]
  },
  {
   "cell_type": "code",
   "execution_count": null,
   "id": "d29b3cce",
   "metadata": {},
   "outputs": [],
   "source": []
  }
 ],
 "metadata": {
  "kernelspec": {
   "display_name": "Python 3 (ipykernel)",
   "language": "python",
   "name": "python3"
  },
  "language_info": {
   "codemirror_mode": {
    "name": "ipython",
    "version": 3
   },
   "file_extension": ".py",
   "mimetype": "text/x-python",
   "name": "python",
   "nbconvert_exporter": "python",
   "pygments_lexer": "ipython3",
   "version": "3.11.3"
  }
 },
 "nbformat": 4,
 "nbformat_minor": 5
}
